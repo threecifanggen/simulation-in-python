{
 "cells": [
  {
   "cell_type": "markdown",
   "metadata": {},
   "source": [
    "# 模拟摆球运动\n",
    "\n",
    "满足下面公式：\n",
    "\n",
    "$$\n",
    "F = -mg \\sin \\theta\n",
    "$$\n",
    "\n",
    "则$a$满足\n",
    "\n",
    "$$\n",
    "a = -g \\sin \\theta\n",
    "$$\n",
    "\n",
    "则角动量$\\ddot \\theta$\n",
    "\n",
    "$$\n",
    "\\ddot \\theta = - \\frac {g}{l} \\sin \\theta\n",
    "$$\n",
    "\n",
    "初始条件为\n",
    "\n",
    "$$\n",
    "\\theta (0) = \\theta _ 0\n",
    "$$\n",
    "\n",
    "$$\n",
    "\\dot \\theta (0) = 0\n",
    "$$"
   ]
  },
  {
   "cell_type": "code",
   "execution_count": 53,
   "metadata": {},
   "outputs": [],
   "source": [
    "from sympy import *"
   ]
  },
  {
   "cell_type": "code",
   "execution_count": 54,
   "metadata": {},
   "outputs": [
    {
     "data": {
      "text/latex": [
       "$\\displaystyle \\frac{g \\sin{\\left(\\theta{\\left(t \\right)} \\right)}}{l} + \\frac{d^{2}}{d t^{2}} \\theta{\\left(t \\right)} = 0$"
      ],
      "text/plain": [
       "Eq(g*sin(theta(t))/l + Derivative(theta(t), (t, 2)), 0)"
      ]
     },
     "execution_count": 54,
     "metadata": {},
     "output_type": "execute_result"
    }
   ],
   "source": [
    "l, g, t = symbols(\"l g t\", real=True)\n",
    "theta = Function(\"theta\")\n",
    "\n",
    "theta_1, theta_2 = symbols(\"theta_{1:3}\", cls=Function)\n",
    "\n",
    "eq = Eq(theta(t).diff(t, 2) + g / l * sin(theta(t)), 0)\n",
    "eq"
   ]
  },
  {
   "cell_type": "code",
   "execution_count": 57,
   "metadata": {},
   "outputs": [],
   "source": [
    "THETA_0 = pi / 3\n",
    "\n",
    "dsolve(eq, func=theta(t), ics={theta(0): THETA_0, theta(t).diff(t, 1).subs(t, 0): 0})"
   ]
  }
 ],
 "metadata": {
  "kernelspec": {
   "display_name": "Python 3.9.12 ('base')",
   "language": "python",
   "name": "python3"
  },
  "language_info": {
   "codemirror_mode": {
    "name": "ipython",
    "version": 3
   },
   "file_extension": ".py",
   "mimetype": "text/x-python",
   "name": "python",
   "nbconvert_exporter": "python",
   "pygments_lexer": "ipython3",
   "version": "3.9.12"
  },
  "orig_nbformat": 4,
  "vscode": {
   "interpreter": {
    "hash": "ad2bdc8ecc057115af97d19610ffacc2b4e99fae6737bb82f5d7fb13d2f2c186"
   }
  }
 },
 "nbformat": 4,
 "nbformat_minor": 2
}
