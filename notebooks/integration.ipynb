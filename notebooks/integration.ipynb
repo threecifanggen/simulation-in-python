{
 "cells": [
  {
   "cell_type": "markdown",
   "metadata": {},
   "source": [
    "# `Sin`积分模拟\n",
    "\n",
    "## 解决问题\n",
    "\n",
    "对`sin`函数从`0`~`10`进行积分，步长为`0.01`。"
   ]
  },
  {
   "cell_type": "code",
   "execution_count": 8,
   "metadata": {},
   "outputs": [],
   "source": [
    "from sympy import *\n",
    "import numpy as np"
   ]
  },
  {
   "cell_type": "markdown",
   "metadata": {},
   "source": [
    "## 直接使用`sympy`"
   ]
  },
  {
   "cell_type": "code",
   "execution_count": 18,
   "metadata": {},
   "outputs": [
    {
     "data": {
      "text/latex": [
       "$\\displaystyle 1.37937383494459$"
      ],
      "text/plain": [
       "1.37937383494459"
      ]
     },
     "execution_count": 18,
     "metadata": {},
     "output_type": "execute_result"
    }
   ],
   "source": [
    "x = Symbol(\"x\")\n",
    "\n",
    "integrate(sin(x), (x, 1, 10)).evalf()"
   ]
  },
  {
   "cell_type": "markdown",
   "metadata": {},
   "source": [
    "## 使用插值法\n",
    "\n",
    "下面是用`numpy`实现的亚当姆斯法。"
   ]
  },
  {
   "cell_type": "code",
   "execution_count": 19,
   "metadata": {},
   "outputs": [
    {
     "data": {
      "text/plain": [
       "1.3808495895130686"
      ]
     },
     "execution_count": 19,
     "metadata": {},
     "output_type": "execute_result"
    }
   ],
   "source": [
    "STEP = 0.01\n",
    "START = 1\n",
    "END = 10\n",
    "\n",
    "(np.sin(np.linspace(START, END, int((END + STEP - START) / STEP))) * STEP).sum()"
   ]
  }
 ],
 "metadata": {
  "kernelspec": {
   "display_name": "Python 3.10.6 ('simulation')",
   "language": "python",
   "name": "python3"
  },
  "language_info": {
   "codemirror_mode": {
    "name": "ipython",
    "version": 3
   },
   "file_extension": ".py",
   "mimetype": "text/x-python",
   "name": "python",
   "nbconvert_exporter": "python",
   "pygments_lexer": "ipython3",
   "version": "3.10.6"
  },
  "orig_nbformat": 4,
  "vscode": {
   "interpreter": {
    "hash": "ebfab1b72b9c5dada7bd161f393f7e917a1d11aaa1515ab24bf9878c33161ff4"
   }
  }
 },
 "nbformat": 4,
 "nbformat_minor": 2
}
